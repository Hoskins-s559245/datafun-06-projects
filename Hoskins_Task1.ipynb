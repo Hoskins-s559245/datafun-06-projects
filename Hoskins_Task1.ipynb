{
 "cells": [
  {
   "attachments": {},
   "cell_type": "markdown",
   "metadata": {},
   "source": [
    "#Student Name: Ash Hoskins,#S559245 <br />\n",
    "#Course: CSIS 44-609 - Data Analytics Fundamentals <br />\n",
    "#Professor Denise Case <br />\n",
    "#Domain: Geospatial Data Module 6 Project Date: 2/20/2023<br />\n",
    "\n",
    "Reference Link for USGS Data used in this program: https://earthquake.usgs.gov/earthquakes/feed/v1.0/csv.php for the Live Version https://earthquake.usgs.gov/earthquakes/feed/v1.0/summary/all_month.csv<br />\n",
    "Brief Description: This program reads in csv data from the Monthly Earthquake hazard program results and displays all detectable seizmic activity throughout the world for the last 30 days. <br />\n",
    "<br />Task 1 Requirements:\n",
    "1. Use Statistics mean, median, mode, std dev, variance\n",
    "2. built-in functions min, max, len, count of records, number of columns\n",
    "3. Get Data into a list\n",
    "4. Use filter, map and list comprehensions to clean and transform data\n",
    "5. use pandas\n",
    "6. use matplotlib\n",
    "7. Strive to tell a story"
   ]
  },
  {
   "cell_type": "code",
   "execution_count": 57,
   "metadata": {},
   "outputs": [],
   "source": [
    "#Importing of necessary libraries for the program.\n",
    "import pandas as pd\n",
    "import numpy as np\n",
    "import matplotlib.pyplot as plt\n",
    "import seaborn as sns\n",
    "from mpl_toolkits.basemap import Basemap"
   ]
  },
  {
   "cell_type": "code",
   "execution_count": 58,
   "metadata": {},
   "outputs": [],
   "source": [
    "#Place csv data into a dataframe. Requirement #5 on Task 1\n",
    "df = pd.read_csv('MonthEQ.csv')"
   ]
  },
  {
   "cell_type": "code",
   "execution_count": 59,
   "metadata": {},
   "outputs": [
    {
     "data": {
      "text/html": [
       "<div>\n",
       "<style scoped>\n",
       "    .dataframe tbody tr th:only-of-type {\n",
       "        vertical-align: middle;\n",
       "    }\n",
       "\n",
       "    .dataframe tbody tr th {\n",
       "        vertical-align: top;\n",
       "    }\n",
       "\n",
       "    .dataframe thead th {\n",
       "        text-align: right;\n",
       "    }\n",
       "</style>\n",
       "<table border=\"1\" class=\"dataframe\">\n",
       "  <thead>\n",
       "    <tr style=\"text-align: right;\">\n",
       "      <th></th>\n",
       "      <th>latitude</th>\n",
       "      <th>longitude</th>\n",
       "      <th>depth</th>\n",
       "      <th>mag</th>\n",
       "    </tr>\n",
       "  </thead>\n",
       "  <tbody>\n",
       "    <tr>\n",
       "      <th>count</th>\n",
       "      <td>10517.000000</td>\n",
       "      <td>10517.000000</td>\n",
       "      <td>10517.000000</td>\n",
       "      <td>10517.000000</td>\n",
       "    </tr>\n",
       "    <tr>\n",
       "      <th>mean</th>\n",
       "      <td>42.524390</td>\n",
       "      <td>-116.387831</td>\n",
       "      <td>25.056893</td>\n",
       "      <td>1.620490</td>\n",
       "    </tr>\n",
       "    <tr>\n",
       "      <th>std</th>\n",
       "      <td>18.532749</td>\n",
       "      <td>67.211486</td>\n",
       "      <td>52.859903</td>\n",
       "      <td>1.284953</td>\n",
       "    </tr>\n",
       "    <tr>\n",
       "      <th>min</th>\n",
       "      <td>-59.407800</td>\n",
       "      <td>-179.968900</td>\n",
       "      <td>-3.500000</td>\n",
       "      <td>-1.230000</td>\n",
       "    </tr>\n",
       "    <tr>\n",
       "      <th>25%</th>\n",
       "      <td>35.509333</td>\n",
       "      <td>-152.810500</td>\n",
       "      <td>2.910000</td>\n",
       "      <td>0.800000</td>\n",
       "    </tr>\n",
       "    <tr>\n",
       "      <th>50%</th>\n",
       "      <td>38.838165</td>\n",
       "      <td>-122.819000</td>\n",
       "      <td>8.400000</td>\n",
       "      <td>1.320000</td>\n",
       "    </tr>\n",
       "    <tr>\n",
       "      <th>75%</th>\n",
       "      <td>58.251333</td>\n",
       "      <td>-116.750167</td>\n",
       "      <td>23.440000</td>\n",
       "      <td>2.060000</td>\n",
       "    </tr>\n",
       "    <tr>\n",
       "      <th>max</th>\n",
       "      <td>84.881800</td>\n",
       "      <td>179.984000</td>\n",
       "      <td>639.011000</td>\n",
       "      <td>7.800000</td>\n",
       "    </tr>\n",
       "  </tbody>\n",
       "</table>\n",
       "</div>"
      ],
      "text/plain": [
       "           latitude     longitude         depth           mag\n",
       "count  10517.000000  10517.000000  10517.000000  10517.000000\n",
       "mean      42.524390   -116.387831     25.056893      1.620490\n",
       "std       18.532749     67.211486     52.859903      1.284953\n",
       "min      -59.407800   -179.968900     -3.500000     -1.230000\n",
       "25%       35.509333   -152.810500      2.910000      0.800000\n",
       "50%       38.838165   -122.819000      8.400000      1.320000\n",
       "75%       58.251333   -116.750167     23.440000      2.060000\n",
       "max       84.881800    179.984000    639.011000      7.800000"
      ]
     },
     "execution_count": 59,
     "metadata": {},
     "output_type": "execute_result"
    }
   ],
   "source": [
    "#Quick way of finding meaningful statistics of a dataframe Requirement #1 on Task 1\n",
    "df.describe()"
   ]
  },
  {
   "cell_type": "code",
   "execution_count": 60,
   "metadata": {},
   "outputs": [
    {
     "name": "stdout",
     "output_type": "stream",
     "text": [
      "Earthquakes are measured on a logarithmic scale based on seismic signals, a negative result means it can't be felt by humans\n",
      "\n",
      "The Largest Magnitude Earthquake recorded in the last 30 days was at a mag of:  7.8\n",
      "Which is located approximately:  26 km ENE of Nurdağı, Turkey\n",
      "\n",
      "The Largest Magnitude Earthquake recorded in the last 30 days was at a mag of:  -1.23\n",
      "Which is located approximately:  60 km ENE of Pedro Bay, Alaska\n",
      "\n",
      "Within the last 30 days there are currently:  10517 recorded seizmic activities worldwide\n",
      "\n",
      "Although unrelevent data has been removed from the csv there exists:  6  number of columns\n"
     ]
    }
   ],
   "source": [
    "#Displays relevent information about the built in functions of the data while providing relevent geospatial information. Requirement #2 on Task 1\n",
    "print(\"Earthquakes are measured on a logarithmic scale based on seismic signals, a negative result means it can't be felt by humans\")\n",
    "print()\n",
    "zed = (df.loc[df['mag'] == df['mag'].max()])\n",
    "print(\"The Largest Magnitude Earthquake recorded in the last 30 days was at a mag of: \", df['mag'].max())\n",
    "print(\"Which is located approximately: \", zed.iat[0,5])\n",
    "print()\n",
    "zed = (df.loc[df['mag'] == df['mag'].min()])\n",
    "print(\"The Largest Magnitude Earthquake recorded in the last 30 days was at a mag of: \", df['mag'].min())\n",
    "print(\"Which is located approximately: \", zed.iat[0,5])\n",
    "print()\n",
    "print(\"Within the last 30 days there are currently: \", len(df.index), \"recorded seizmic activities worldwide\")\n",
    "print()\n",
    "col = df.columns\n",
    "print(\"Although unrelevent data has been removed from the csv there exists: \", len(col), \" number of columns\")\n"
   ]
  },
  {
   "attachments": {},
   "cell_type": "markdown",
   "metadata": {},
   "source": [
    "#This is a histogram  from the USGS data showing all the seizmic acitivty in the last 30 days in the world. Tremors that are displayed to the left of the red line cannot be felt by humans."
   ]
  },
  {
   "cell_type": "code",
   "execution_count": 93,
   "metadata": {},
   "outputs": [
    {
     "data": {
      "text/plain": [
       "<matplotlib.lines.Line2D at 0x2686d769c90>"
      ]
     },
     "execution_count": 93,
     "metadata": {},
     "output_type": "execute_result"
    },
    {
     "data": {
      "image/png": "[encoded data removed]",
      "text/plain": [
       "<Figure size 640x480 with 1 Axes>"
      ]
     },
     "metadata": {},
     "output_type": "display_data"
    }
   ],
   "source": [
    "#Use matplot lib to display histogram of relevent data Requirement #6 Task 1\n",
    "df['mag'].hist(bins = 200, grid = False, xlabelsize= 12, ylabelsize= 12)\n",
    "plt.xlabel(\"Magnitude\", fontsize = 15)\n",
    "plt.ylabel(\"Number of Occurances in 30 days\", fontsize = 15)\n",
    "plt.xticks([-2,-1, 0, 1, 2, 3, 4, 5, 6, 7, 8])\n",
    "plt.xlim(-2, 9)\n",
    "plt.axvline(0, c = 'red')\n",
    "\n"
   ]
  },
  {
   "cell_type": "code",
   "execution_count": 94,
   "metadata": {},
   "outputs": [],
   "source": [
    "#Basemap creation criteria, centralized lat/lon on Atlantic Ocean. Draw Meridians and Paralells, coats lines, countries lines. For loop sets marker size based on magniture from dataframe\n",
    "#This is created as method to be used for further tasks.  #x, y = worldmap(df[\"latitude\"] ,df[\"longitude\"]) Testing commented out for continuity of magnitude size.\n",
    "def worldmap(data):\n",
    "    worldmap = Basemap(projection='robin', resolution = 'l', area_thresh = 1000.0,\n",
    "              lat_0=10, lon_0=-13)    \n",
    "    worldmap.drawcoastlines()\n",
    "    worldmap.drawcountries()\n",
    "    worldmap.fillcontinents(color = 'gray')\n",
    "    worldmap.drawmapboundary()\n",
    "    worldmap.drawmeridians(np.arange(0, 360, 30))\n",
    "    worldmap.drawparallels(np.arange(-90, 90, 30))\n",
    "    \n",
    "# For loop used to set marker size on the Basemap equal to the magnitude of the measurement. \n",
    "    for longitude, latitude, mag in zip(data['longitude'], data['latitude'], data['mag']):\n",
    "        if mag > 5:\n",
    "            min_marker_size = mag\n",
    "            x,y = worldmap(longitude, latitude)\n",
    "            worldmap.plot(x, y, 'rs', markersize = min_marker_size)\n",
    "        elif mag < 0:\n",
    "            min_marker_size = 3\n",
    "            x,y = worldmap(longitude, latitude)\n",
    "            worldmap.plot(x, y, 'bs', markersize = min_marker_size)\n",
    "        else:\n",
    "            min_marker_size = mag\n",
    "            x,y = worldmap(longitude, latitude)\n",
    "            worldmap.plot(x, y, 'g^', markersize = min_marker_size)\n",
    "\n",
    "#plt.show(worldmap(df))\n",
    "\n"
   ]
  },
  {
   "cell_type": "code",
   "execution_count": null,
   "metadata": {},
   "outputs": [],
   "source": []
  }
 ],
 "metadata": {
  "kernelspec": {
   "display_name": "base",
   "language": "python",
   "name": "python3"
  },
  "language_info": {
   "codemirror_mode": {
    "name": "ipython",
    "version": 3
   },
   "file_extension": ".py",
   "mimetype": "text/x-python",
   "name": "python",
   "nbconvert_exporter": "python",
   "pygments_lexer": "ipython3",
   "version": "3.10.8"
  },
  "orig_nbformat": 4,
  "vscode": {
   "interpreter": {
    "hash": "e650c6bab76934ae78d8bec2fe13bdfe0ac8f6f97dab581f7266564add589954"
   }
  }
 },
 "nbformat": 4,
 "nbformat_minor": 2
}
